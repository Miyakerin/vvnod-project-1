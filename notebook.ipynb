{
 "cells": [
  {
   "cell_type": "code",
   "execution_count": 1,
   "id": "1df59027-b7a4-431d-9d02-03affc67c5d3",
   "metadata": {},
   "outputs": [],
   "source": [
    "import kagglehub\n",
    "import pandas as pd\n",
    "from sklearn.preprocessing import OneHotEncoder, LabelEncoder\n",
    "import numpy as np\n",
    "import seaborn as sns\n",
    "import sklearn"
   ]
  },
  {
   "cell_type": "markdown",
   "id": "756480f4-a2d2-43e9-afd7-f6d083bc3bd4",
   "metadata": {},
   "source": [
    "# Предисловие"
   ]
  },
  {
   "cell_type": "markdown",
   "id": "3eeec2a3-a2c1-4915-9e7a-18c27b5a1aee",
   "metadata": {},
   "source": [
    "Данный датасет был выбран по тем причинам, что:\\\n",
    "а) отвечает условиям к датасету, представленными в задаче\\\n",
    "б) показался интересным для работы и *может* иметь хоть какую-то практическую ценность"
   ]
  },
  {
   "cell_type": "markdown",
   "id": "50d78dc6-26fe-4dc2-a2a1-8cbcb6d31b93",
   "metadata": {},
   "source": [
    "# Датасет"
   ]
  },
  {
   "cell_type": "code",
   "execution_count": 2,
   "id": "42feee39-a8f7-414b-937d-42ac10ec4dc5",
   "metadata": {},
   "outputs": [
    {
     "name": "stdout",
     "output_type": "stream",
     "text": [
      "Path to dataset files: C:\\Users\\troll\\.cache\\kagglehub\\datasets\\shrutimechlearn\\churn-modelling\\versions\\1/Churn_Modelling.csv\n"
     ]
    }
   ],
   "source": [
    "# Download latest version\n",
    "path = kagglehub.dataset_download(\"shrutimechlearn/churn-modelling\")\n",
    "path = path + \"/Churn_Modelling.csv\" \n",
    "\n",
    "print(\"Path to dataset files:\", path)"
   ]
  },
  {
   "cell_type": "code",
   "execution_count": 3,
   "id": "1b0a8271-fae2-43cf-b183-cf8b8e44c8d9",
   "metadata": {},
   "outputs": [],
   "source": [
    "df = pd.read_csv(path)"
   ]
  },
  {
   "cell_type": "markdown",
   "id": "16be61cf-f4c6-4831-b1e9-ce527a99a483",
   "metadata": {},
   "source": [
    "## Работа с данными"
   ]
  },
  {
   "cell_type": "code",
   "execution_count": 4,
   "id": "9ea3ecf3-16d0-4de0-8900-f4c03196d6fd",
   "metadata": {},
   "outputs": [
    {
     "data": {
      "text/html": [
       "<div>\n",
       "<style scoped>\n",
       "    .dataframe tbody tr th:only-of-type {\n",
       "        vertical-align: middle;\n",
       "    }\n",
       "\n",
       "    .dataframe tbody tr th {\n",
       "        vertical-align: top;\n",
       "    }\n",
       "\n",
       "    .dataframe thead th {\n",
       "        text-align: right;\n",
       "    }\n",
       "</style>\n",
       "<table border=\"1\" class=\"dataframe\">\n",
       "  <thead>\n",
       "    <tr style=\"text-align: right;\">\n",
       "      <th></th>\n",
       "      <th>RowNumber</th>\n",
       "      <th>CustomerId</th>\n",
       "      <th>Surname</th>\n",
       "      <th>CreditScore</th>\n",
       "      <th>Geography</th>\n",
       "      <th>Gender</th>\n",
       "      <th>Age</th>\n",
       "      <th>Tenure</th>\n",
       "      <th>Balance</th>\n",
       "      <th>NumOfProducts</th>\n",
       "      <th>HasCrCard</th>\n",
       "      <th>IsActiveMember</th>\n",
       "      <th>EstimatedSalary</th>\n",
       "      <th>Exited</th>\n",
       "    </tr>\n",
       "  </thead>\n",
       "  <tbody>\n",
       "    <tr>\n",
       "      <th>0</th>\n",
       "      <td>1</td>\n",
       "      <td>15634602</td>\n",
       "      <td>Hargrave</td>\n",
       "      <td>619</td>\n",
       "      <td>France</td>\n",
       "      <td>Female</td>\n",
       "      <td>42</td>\n",
       "      <td>2</td>\n",
       "      <td>0.00</td>\n",
       "      <td>1</td>\n",
       "      <td>1</td>\n",
       "      <td>1</td>\n",
       "      <td>101348.88</td>\n",
       "      <td>1</td>\n",
       "    </tr>\n",
       "    <tr>\n",
       "      <th>1</th>\n",
       "      <td>2</td>\n",
       "      <td>15647311</td>\n",
       "      <td>Hill</td>\n",
       "      <td>608</td>\n",
       "      <td>Spain</td>\n",
       "      <td>Female</td>\n",
       "      <td>41</td>\n",
       "      <td>1</td>\n",
       "      <td>83807.86</td>\n",
       "      <td>1</td>\n",
       "      <td>0</td>\n",
       "      <td>1</td>\n",
       "      <td>112542.58</td>\n",
       "      <td>0</td>\n",
       "    </tr>\n",
       "    <tr>\n",
       "      <th>2</th>\n",
       "      <td>3</td>\n",
       "      <td>15619304</td>\n",
       "      <td>Onio</td>\n",
       "      <td>502</td>\n",
       "      <td>France</td>\n",
       "      <td>Female</td>\n",
       "      <td>42</td>\n",
       "      <td>8</td>\n",
       "      <td>159660.80</td>\n",
       "      <td>3</td>\n",
       "      <td>1</td>\n",
       "      <td>0</td>\n",
       "      <td>113931.57</td>\n",
       "      <td>1</td>\n",
       "    </tr>\n",
       "    <tr>\n",
       "      <th>3</th>\n",
       "      <td>4</td>\n",
       "      <td>15701354</td>\n",
       "      <td>Boni</td>\n",
       "      <td>699</td>\n",
       "      <td>France</td>\n",
       "      <td>Female</td>\n",
       "      <td>39</td>\n",
       "      <td>1</td>\n",
       "      <td>0.00</td>\n",
       "      <td>2</td>\n",
       "      <td>0</td>\n",
       "      <td>0</td>\n",
       "      <td>93826.63</td>\n",
       "      <td>0</td>\n",
       "    </tr>\n",
       "    <tr>\n",
       "      <th>4</th>\n",
       "      <td>5</td>\n",
       "      <td>15737888</td>\n",
       "      <td>Mitchell</td>\n",
       "      <td>850</td>\n",
       "      <td>Spain</td>\n",
       "      <td>Female</td>\n",
       "      <td>43</td>\n",
       "      <td>2</td>\n",
       "      <td>125510.82</td>\n",
       "      <td>1</td>\n",
       "      <td>1</td>\n",
       "      <td>1</td>\n",
       "      <td>79084.10</td>\n",
       "      <td>0</td>\n",
       "    </tr>\n",
       "  </tbody>\n",
       "</table>\n",
       "</div>"
      ],
      "text/plain": [
       "   RowNumber  CustomerId   Surname  CreditScore Geography  Gender  Age  \\\n",
       "0          1    15634602  Hargrave          619    France  Female   42   \n",
       "1          2    15647311      Hill          608     Spain  Female   41   \n",
       "2          3    15619304      Onio          502    France  Female   42   \n",
       "3          4    15701354      Boni          699    France  Female   39   \n",
       "4          5    15737888  Mitchell          850     Spain  Female   43   \n",
       "\n",
       "   Tenure    Balance  NumOfProducts  HasCrCard  IsActiveMember  \\\n",
       "0       2       0.00              1          1               1   \n",
       "1       1   83807.86              1          0               1   \n",
       "2       8  159660.80              3          1               0   \n",
       "3       1       0.00              2          0               0   \n",
       "4       2  125510.82              1          1               1   \n",
       "\n",
       "   EstimatedSalary  Exited  \n",
       "0        101348.88       1  \n",
       "1        112542.58       0  \n",
       "2        113931.57       1  \n",
       "3         93826.63       0  \n",
       "4         79084.10       0  "
      ]
     },
     "execution_count": 4,
     "metadata": {},
     "output_type": "execute_result"
    }
   ],
   "source": [
    "df.head()"
   ]
  },
  {
   "cell_type": "code",
   "execution_count": 5,
   "id": "8c01c9bd-e8f1-4ff2-90ac-89584dacb17e",
   "metadata": {},
   "outputs": [],
   "source": [
    "# Удалим колонки rowNumber & CustomerId & Surname\n",
    "df.drop(columns=[\"RowNumber\", \"CustomerId\", \"Surname\"], axis=1, inplace=True)"
   ]
  },
  {
   "cell_type": "code",
   "execution_count": 6,
   "id": "4e73845d-0a3f-441a-9625-e87a08b58538",
   "metadata": {},
   "outputs": [],
   "source": [
    "# Преобразуем колонки География и Gender в категориональные признаки\n",
    "le = LabelEncoder()\n",
    "cat_enc_le = le.fit_transform(df['Geography'])\n",
    "ohe = OneHotEncoder(sparse_output=False)\n",
    "cat_enc_ohe = ohe.fit_transform(df[['Geography']])\n",
    "temp = pd.DataFrame(cat_enc_ohe, columns=ohe.get_feature_names_out(['Geography']))\n",
    "df = pd.concat([df.drop(columns=['Geography']), temp], axis=1)"
   ]
  },
  {
   "cell_type": "code",
   "execution_count": 7,
   "id": "8d034946-f932-421a-bffb-79e4842e0e4a",
   "metadata": {},
   "outputs": [
    {
     "data": {
      "text/html": [
       "<div>\n",
       "<style scoped>\n",
       "    .dataframe tbody tr th:only-of-type {\n",
       "        vertical-align: middle;\n",
       "    }\n",
       "\n",
       "    .dataframe tbody tr th {\n",
       "        vertical-align: top;\n",
       "    }\n",
       "\n",
       "    .dataframe thead th {\n",
       "        text-align: right;\n",
       "    }\n",
       "</style>\n",
       "<table border=\"1\" class=\"dataframe\">\n",
       "  <thead>\n",
       "    <tr style=\"text-align: right;\">\n",
       "      <th></th>\n",
       "      <th>CreditScore</th>\n",
       "      <th>Age</th>\n",
       "      <th>Tenure</th>\n",
       "      <th>Balance</th>\n",
       "      <th>NumOfProducts</th>\n",
       "      <th>HasCrCard</th>\n",
       "      <th>IsActiveMember</th>\n",
       "      <th>EstimatedSalary</th>\n",
       "      <th>Exited</th>\n",
       "      <th>Geography_France</th>\n",
       "      <th>Geography_Germany</th>\n",
       "      <th>Geography_Spain</th>\n",
       "      <th>Gender_Female</th>\n",
       "      <th>Gender_Male</th>\n",
       "    </tr>\n",
       "  </thead>\n",
       "  <tbody>\n",
       "    <tr>\n",
       "      <th>0</th>\n",
       "      <td>619</td>\n",
       "      <td>42</td>\n",
       "      <td>2</td>\n",
       "      <td>0.00</td>\n",
       "      <td>1</td>\n",
       "      <td>1</td>\n",
       "      <td>1</td>\n",
       "      <td>101348.88</td>\n",
       "      <td>1</td>\n",
       "      <td>1.0</td>\n",
       "      <td>0.0</td>\n",
       "      <td>0.0</td>\n",
       "      <td>1.0</td>\n",
       "      <td>0.0</td>\n",
       "    </tr>\n",
       "    <tr>\n",
       "      <th>1</th>\n",
       "      <td>608</td>\n",
       "      <td>41</td>\n",
       "      <td>1</td>\n",
       "      <td>83807.86</td>\n",
       "      <td>1</td>\n",
       "      <td>0</td>\n",
       "      <td>1</td>\n",
       "      <td>112542.58</td>\n",
       "      <td>0</td>\n",
       "      <td>0.0</td>\n",
       "      <td>0.0</td>\n",
       "      <td>1.0</td>\n",
       "      <td>1.0</td>\n",
       "      <td>0.0</td>\n",
       "    </tr>\n",
       "    <tr>\n",
       "      <th>2</th>\n",
       "      <td>502</td>\n",
       "      <td>42</td>\n",
       "      <td>8</td>\n",
       "      <td>159660.80</td>\n",
       "      <td>3</td>\n",
       "      <td>1</td>\n",
       "      <td>0</td>\n",
       "      <td>113931.57</td>\n",
       "      <td>1</td>\n",
       "      <td>1.0</td>\n",
       "      <td>0.0</td>\n",
       "      <td>0.0</td>\n",
       "      <td>1.0</td>\n",
       "      <td>0.0</td>\n",
       "    </tr>\n",
       "    <tr>\n",
       "      <th>3</th>\n",
       "      <td>699</td>\n",
       "      <td>39</td>\n",
       "      <td>1</td>\n",
       "      <td>0.00</td>\n",
       "      <td>2</td>\n",
       "      <td>0</td>\n",
       "      <td>0</td>\n",
       "      <td>93826.63</td>\n",
       "      <td>0</td>\n",
       "      <td>1.0</td>\n",
       "      <td>0.0</td>\n",
       "      <td>0.0</td>\n",
       "      <td>1.0</td>\n",
       "      <td>0.0</td>\n",
       "    </tr>\n",
       "    <tr>\n",
       "      <th>4</th>\n",
       "      <td>850</td>\n",
       "      <td>43</td>\n",
       "      <td>2</td>\n",
       "      <td>125510.82</td>\n",
       "      <td>1</td>\n",
       "      <td>1</td>\n",
       "      <td>1</td>\n",
       "      <td>79084.10</td>\n",
       "      <td>0</td>\n",
       "      <td>0.0</td>\n",
       "      <td>0.0</td>\n",
       "      <td>1.0</td>\n",
       "      <td>1.0</td>\n",
       "      <td>0.0</td>\n",
       "    </tr>\n",
       "    <tr>\n",
       "      <th>...</th>\n",
       "      <td>...</td>\n",
       "      <td>...</td>\n",
       "      <td>...</td>\n",
       "      <td>...</td>\n",
       "      <td>...</td>\n",
       "      <td>...</td>\n",
       "      <td>...</td>\n",
       "      <td>...</td>\n",
       "      <td>...</td>\n",
       "      <td>...</td>\n",
       "      <td>...</td>\n",
       "      <td>...</td>\n",
       "      <td>...</td>\n",
       "      <td>...</td>\n",
       "    </tr>\n",
       "    <tr>\n",
       "      <th>9995</th>\n",
       "      <td>771</td>\n",
       "      <td>39</td>\n",
       "      <td>5</td>\n",
       "      <td>0.00</td>\n",
       "      <td>2</td>\n",
       "      <td>1</td>\n",
       "      <td>0</td>\n",
       "      <td>96270.64</td>\n",
       "      <td>0</td>\n",
       "      <td>1.0</td>\n",
       "      <td>0.0</td>\n",
       "      <td>0.0</td>\n",
       "      <td>0.0</td>\n",
       "      <td>1.0</td>\n",
       "    </tr>\n",
       "    <tr>\n",
       "      <th>9996</th>\n",
       "      <td>516</td>\n",
       "      <td>35</td>\n",
       "      <td>10</td>\n",
       "      <td>57369.61</td>\n",
       "      <td>1</td>\n",
       "      <td>1</td>\n",
       "      <td>1</td>\n",
       "      <td>101699.77</td>\n",
       "      <td>0</td>\n",
       "      <td>1.0</td>\n",
       "      <td>0.0</td>\n",
       "      <td>0.0</td>\n",
       "      <td>0.0</td>\n",
       "      <td>1.0</td>\n",
       "    </tr>\n",
       "    <tr>\n",
       "      <th>9997</th>\n",
       "      <td>709</td>\n",
       "      <td>36</td>\n",
       "      <td>7</td>\n",
       "      <td>0.00</td>\n",
       "      <td>1</td>\n",
       "      <td>0</td>\n",
       "      <td>1</td>\n",
       "      <td>42085.58</td>\n",
       "      <td>1</td>\n",
       "      <td>1.0</td>\n",
       "      <td>0.0</td>\n",
       "      <td>0.0</td>\n",
       "      <td>1.0</td>\n",
       "      <td>0.0</td>\n",
       "    </tr>\n",
       "    <tr>\n",
       "      <th>9998</th>\n",
       "      <td>772</td>\n",
       "      <td>42</td>\n",
       "      <td>3</td>\n",
       "      <td>75075.31</td>\n",
       "      <td>2</td>\n",
       "      <td>1</td>\n",
       "      <td>0</td>\n",
       "      <td>92888.52</td>\n",
       "      <td>1</td>\n",
       "      <td>0.0</td>\n",
       "      <td>1.0</td>\n",
       "      <td>0.0</td>\n",
       "      <td>0.0</td>\n",
       "      <td>1.0</td>\n",
       "    </tr>\n",
       "    <tr>\n",
       "      <th>9999</th>\n",
       "      <td>792</td>\n",
       "      <td>28</td>\n",
       "      <td>4</td>\n",
       "      <td>130142.79</td>\n",
       "      <td>1</td>\n",
       "      <td>1</td>\n",
       "      <td>0</td>\n",
       "      <td>38190.78</td>\n",
       "      <td>0</td>\n",
       "      <td>1.0</td>\n",
       "      <td>0.0</td>\n",
       "      <td>0.0</td>\n",
       "      <td>1.0</td>\n",
       "      <td>0.0</td>\n",
       "    </tr>\n",
       "  </tbody>\n",
       "</table>\n",
       "<p>10000 rows × 14 columns</p>\n",
       "</div>"
      ],
      "text/plain": [
       "      CreditScore  Age  Tenure    Balance  NumOfProducts  HasCrCard  \\\n",
       "0             619   42       2       0.00              1          1   \n",
       "1             608   41       1   83807.86              1          0   \n",
       "2             502   42       8  159660.80              3          1   \n",
       "3             699   39       1       0.00              2          0   \n",
       "4             850   43       2  125510.82              1          1   \n",
       "...           ...  ...     ...        ...            ...        ...   \n",
       "9995          771   39       5       0.00              2          1   \n",
       "9996          516   35      10   57369.61              1          1   \n",
       "9997          709   36       7       0.00              1          0   \n",
       "9998          772   42       3   75075.31              2          1   \n",
       "9999          792   28       4  130142.79              1          1   \n",
       "\n",
       "      IsActiveMember  EstimatedSalary  Exited  Geography_France  \\\n",
       "0                  1        101348.88       1               1.0   \n",
       "1                  1        112542.58       0               0.0   \n",
       "2                  0        113931.57       1               1.0   \n",
       "3                  0         93826.63       0               1.0   \n",
       "4                  1         79084.10       0               0.0   \n",
       "...              ...              ...     ...               ...   \n",
       "9995               0         96270.64       0               1.0   \n",
       "9996               1        101699.77       0               1.0   \n",
       "9997               1         42085.58       1               1.0   \n",
       "9998               0         92888.52       1               0.0   \n",
       "9999               0         38190.78       0               1.0   \n",
       "\n",
       "      Geography_Germany  Geography_Spain  Gender_Female  Gender_Male  \n",
       "0                   0.0              0.0            1.0          0.0  \n",
       "1                   0.0              1.0            1.0          0.0  \n",
       "2                   0.0              0.0            1.0          0.0  \n",
       "3                   0.0              0.0            1.0          0.0  \n",
       "4                   0.0              1.0            1.0          0.0  \n",
       "...                 ...              ...            ...          ...  \n",
       "9995                0.0              0.0            0.0          1.0  \n",
       "9996                0.0              0.0            0.0          1.0  \n",
       "9997                0.0              0.0            1.0          0.0  \n",
       "9998                1.0              0.0            0.0          1.0  \n",
       "9999                0.0              0.0            1.0          0.0  \n",
       "\n",
       "[10000 rows x 14 columns]"
      ]
     },
     "execution_count": 7,
     "metadata": {},
     "output_type": "execute_result"
    }
   ],
   "source": [
    "# Преобразуем колонки География и Gender в категориональные признаки\n",
    "le = LabelEncoder()\n",
    "cat_enc_le = le.fit_transform(df['Gender'])\n",
    "ohe = OneHotEncoder(sparse_output=False)\n",
    "cat_enc_ohe = ohe.fit_transform(df[['Gender']])\n",
    "temp = pd.DataFrame(cat_enc_ohe, columns=ohe.get_feature_names_out(['Gender']))\n",
    "df = pd.concat([df.drop(columns=['Gender']), temp], axis=1)\n",
    "df\n"
   ]
  },
  {
   "cell_type": "code",
   "execution_count": 8,
   "id": "b1669bfe-3266-4e27-82fa-36f0f952ec4a",
   "metadata": {},
   "outputs": [],
   "source": [
    "# После преобразования данных проверим выборсы"
   ]
  },
  {
   "cell_type": "code",
   "execution_count": 9,
   "id": "30b2c30f-70de-4bc9-a5f0-1eae4cd5da50",
   "metadata": {},
   "outputs": [
    {
     "data": {
      "text/html": [
       "<div>\n",
       "<style scoped>\n",
       "    .dataframe tbody tr th:only-of-type {\n",
       "        vertical-align: middle;\n",
       "    }\n",
       "\n",
       "    .dataframe tbody tr th {\n",
       "        vertical-align: top;\n",
       "    }\n",
       "\n",
       "    .dataframe thead th {\n",
       "        text-align: right;\n",
       "    }\n",
       "</style>\n",
       "<table border=\"1\" class=\"dataframe\">\n",
       "  <thead>\n",
       "    <tr style=\"text-align: right;\">\n",
       "      <th></th>\n",
       "      <th>CreditScore</th>\n",
       "      <th>Age</th>\n",
       "      <th>Tenure</th>\n",
       "      <th>Balance</th>\n",
       "      <th>NumOfProducts</th>\n",
       "      <th>HasCrCard</th>\n",
       "      <th>IsActiveMember</th>\n",
       "      <th>EstimatedSalary</th>\n",
       "      <th>Exited</th>\n",
       "      <th>Geography_France</th>\n",
       "      <th>Geography_Germany</th>\n",
       "      <th>Geography_Spain</th>\n",
       "      <th>Gender_Female</th>\n",
       "      <th>Gender_Male</th>\n",
       "    </tr>\n",
       "  </thead>\n",
       "  <tbody>\n",
       "    <tr>\n",
       "      <th>count</th>\n",
       "      <td>10000.000000</td>\n",
       "      <td>10000.000000</td>\n",
       "      <td>10000.000000</td>\n",
       "      <td>10000.000000</td>\n",
       "      <td>10000.000000</td>\n",
       "      <td>10000.00000</td>\n",
       "      <td>10000.000000</td>\n",
       "      <td>10000.000000</td>\n",
       "      <td>10000.000000</td>\n",
       "      <td>10000.000000</td>\n",
       "      <td>10000.000000</td>\n",
       "      <td>10000.000000</td>\n",
       "      <td>10000.000000</td>\n",
       "      <td>10000.000000</td>\n",
       "    </tr>\n",
       "    <tr>\n",
       "      <th>mean</th>\n",
       "      <td>650.528800</td>\n",
       "      <td>38.921800</td>\n",
       "      <td>5.012800</td>\n",
       "      <td>76485.889288</td>\n",
       "      <td>1.530200</td>\n",
       "      <td>0.70550</td>\n",
       "      <td>0.515100</td>\n",
       "      <td>100090.239881</td>\n",
       "      <td>0.203700</td>\n",
       "      <td>0.501400</td>\n",
       "      <td>0.250900</td>\n",
       "      <td>0.247700</td>\n",
       "      <td>0.454300</td>\n",
       "      <td>0.545700</td>\n",
       "    </tr>\n",
       "    <tr>\n",
       "      <th>std</th>\n",
       "      <td>96.653299</td>\n",
       "      <td>10.487806</td>\n",
       "      <td>2.892174</td>\n",
       "      <td>62397.405202</td>\n",
       "      <td>0.581654</td>\n",
       "      <td>0.45584</td>\n",
       "      <td>0.499797</td>\n",
       "      <td>57510.492818</td>\n",
       "      <td>0.402769</td>\n",
       "      <td>0.500023</td>\n",
       "      <td>0.433553</td>\n",
       "      <td>0.431698</td>\n",
       "      <td>0.497932</td>\n",
       "      <td>0.497932</td>\n",
       "    </tr>\n",
       "    <tr>\n",
       "      <th>min</th>\n",
       "      <td>350.000000</td>\n",
       "      <td>18.000000</td>\n",
       "      <td>0.000000</td>\n",
       "      <td>0.000000</td>\n",
       "      <td>1.000000</td>\n",
       "      <td>0.00000</td>\n",
       "      <td>0.000000</td>\n",
       "      <td>11.580000</td>\n",
       "      <td>0.000000</td>\n",
       "      <td>0.000000</td>\n",
       "      <td>0.000000</td>\n",
       "      <td>0.000000</td>\n",
       "      <td>0.000000</td>\n",
       "      <td>0.000000</td>\n",
       "    </tr>\n",
       "    <tr>\n",
       "      <th>25%</th>\n",
       "      <td>584.000000</td>\n",
       "      <td>32.000000</td>\n",
       "      <td>3.000000</td>\n",
       "      <td>0.000000</td>\n",
       "      <td>1.000000</td>\n",
       "      <td>0.00000</td>\n",
       "      <td>0.000000</td>\n",
       "      <td>51002.110000</td>\n",
       "      <td>0.000000</td>\n",
       "      <td>0.000000</td>\n",
       "      <td>0.000000</td>\n",
       "      <td>0.000000</td>\n",
       "      <td>0.000000</td>\n",
       "      <td>0.000000</td>\n",
       "    </tr>\n",
       "    <tr>\n",
       "      <th>50%</th>\n",
       "      <td>652.000000</td>\n",
       "      <td>37.000000</td>\n",
       "      <td>5.000000</td>\n",
       "      <td>97198.540000</td>\n",
       "      <td>1.000000</td>\n",
       "      <td>1.00000</td>\n",
       "      <td>1.000000</td>\n",
       "      <td>100193.915000</td>\n",
       "      <td>0.000000</td>\n",
       "      <td>1.000000</td>\n",
       "      <td>0.000000</td>\n",
       "      <td>0.000000</td>\n",
       "      <td>0.000000</td>\n",
       "      <td>1.000000</td>\n",
       "    </tr>\n",
       "    <tr>\n",
       "      <th>75%</th>\n",
       "      <td>718.000000</td>\n",
       "      <td>44.000000</td>\n",
       "      <td>7.000000</td>\n",
       "      <td>127644.240000</td>\n",
       "      <td>2.000000</td>\n",
       "      <td>1.00000</td>\n",
       "      <td>1.000000</td>\n",
       "      <td>149388.247500</td>\n",
       "      <td>0.000000</td>\n",
       "      <td>1.000000</td>\n",
       "      <td>1.000000</td>\n",
       "      <td>0.000000</td>\n",
       "      <td>1.000000</td>\n",
       "      <td>1.000000</td>\n",
       "    </tr>\n",
       "    <tr>\n",
       "      <th>max</th>\n",
       "      <td>850.000000</td>\n",
       "      <td>92.000000</td>\n",
       "      <td>10.000000</td>\n",
       "      <td>250898.090000</td>\n",
       "      <td>4.000000</td>\n",
       "      <td>1.00000</td>\n",
       "      <td>1.000000</td>\n",
       "      <td>199992.480000</td>\n",
       "      <td>1.000000</td>\n",
       "      <td>1.000000</td>\n",
       "      <td>1.000000</td>\n",
       "      <td>1.000000</td>\n",
       "      <td>1.000000</td>\n",
       "      <td>1.000000</td>\n",
       "    </tr>\n",
       "  </tbody>\n",
       "</table>\n",
       "</div>"
      ],
      "text/plain": [
       "        CreditScore           Age        Tenure        Balance  NumOfProducts  \\\n",
       "count  10000.000000  10000.000000  10000.000000   10000.000000   10000.000000   \n",
       "mean     650.528800     38.921800      5.012800   76485.889288       1.530200   \n",
       "std       96.653299     10.487806      2.892174   62397.405202       0.581654   \n",
       "min      350.000000     18.000000      0.000000       0.000000       1.000000   \n",
       "25%      584.000000     32.000000      3.000000       0.000000       1.000000   \n",
       "50%      652.000000     37.000000      5.000000   97198.540000       1.000000   \n",
       "75%      718.000000     44.000000      7.000000  127644.240000       2.000000   \n",
       "max      850.000000     92.000000     10.000000  250898.090000       4.000000   \n",
       "\n",
       "         HasCrCard  IsActiveMember  EstimatedSalary        Exited  \\\n",
       "count  10000.00000    10000.000000     10000.000000  10000.000000   \n",
       "mean       0.70550        0.515100    100090.239881      0.203700   \n",
       "std        0.45584        0.499797     57510.492818      0.402769   \n",
       "min        0.00000        0.000000        11.580000      0.000000   \n",
       "25%        0.00000        0.000000     51002.110000      0.000000   \n",
       "50%        1.00000        1.000000    100193.915000      0.000000   \n",
       "75%        1.00000        1.000000    149388.247500      0.000000   \n",
       "max        1.00000        1.000000    199992.480000      1.000000   \n",
       "\n",
       "       Geography_France  Geography_Germany  Geography_Spain  Gender_Female  \\\n",
       "count      10000.000000       10000.000000     10000.000000   10000.000000   \n",
       "mean           0.501400           0.250900         0.247700       0.454300   \n",
       "std            0.500023           0.433553         0.431698       0.497932   \n",
       "min            0.000000           0.000000         0.000000       0.000000   \n",
       "25%            0.000000           0.000000         0.000000       0.000000   \n",
       "50%            1.000000           0.000000         0.000000       0.000000   \n",
       "75%            1.000000           1.000000         0.000000       1.000000   \n",
       "max            1.000000           1.000000         1.000000       1.000000   \n",
       "\n",
       "        Gender_Male  \n",
       "count  10000.000000  \n",
       "mean       0.545700  \n",
       "std        0.497932  \n",
       "min        0.000000  \n",
       "25%        0.000000  \n",
       "50%        1.000000  \n",
       "75%        1.000000  \n",
       "max        1.000000  "
      ]
     },
     "execution_count": 9,
     "metadata": {},
     "output_type": "execute_result"
    }
   ],
   "source": [
    "df.describe()"
   ]
  },
  {
   "cell_type": "code",
   "execution_count": 10,
   "id": "4c4f60ea-3d4e-4633-8947-c79afd9c4da0",
   "metadata": {},
   "outputs": [],
   "source": [
    "# Исходя из данных можно сделать превадрительный вывод, что отравленных данных нет"
   ]
  },
  {
   "cell_type": "code",
   "execution_count": 11,
   "id": "61f157af-1266-4160-88e0-e757ce24a003",
   "metadata": {},
   "outputs": [],
   "source": [
    "# Для каждого не категорионального признака рассмотрим их распределение"
   ]
  },
  {
   "cell_type": "code",
   "execution_count": 12,
   "id": "45213e80-d2c1-4138-87dc-b087d27cbd46",
   "metadata": {},
   "outputs": [],
   "source": [
    "non_cat_columns = [\"CreditScore\", \"Age\", \"Tenure\", \"Balance\", \"NumOfProducts\", \"EstimatedSalary\"]"
   ]
  },
  {
   "cell_type": "code",
   "execution_count": 13,
   "id": "d793cd8e-f50e-40cd-b829-6285ff88f05b",
   "metadata": {},
   "outputs": [
    {
     "data": {
      "image/png": "[encoded data removed]",
      "text/plain": [
       "<Figure size 640x480 with 1 Axes>"
      ]
     },
     "metadata": {},
     "output_type": "display_data"
    },
    {
     "data": {
      "image/png": "[encoded data removed]",
      "text/plain": [
       "<Figure size 640x480 with 1 Axes>"
      ]
     },
     "metadata": {},
     "output_type": "display_data"
    },
    {
     "data": {
      "image/png": "[encoded data removed]",
      "text/plain": [
       "<Figure size 640x480 with 1 Axes>"
      ]
     },
     "metadata": {},
     "output_type": "display_data"
    },
    {
     "data": {
      "image/png": "[encoded data removed]",
      "text/plain": [
       "<Figure size 640x480 with 1 Axes>"
      ]
     },
     "metadata": {},
     "output_type": "display_data"
    },
    {
     "data": {
      "image/png": "[encoded data removed]",
      "text/plain": [
       "<Figure size 640x480 with 1 Axes>"
      ]
     },
     "metadata": {},
     "output_type": "display_data"
    },
    {
     "data": {
      "image/png": "[encoded data removed]",
      "text/plain": [
       "<Figure size 640x480 with 1 Axes>"
      ]
     },
     "metadata": {},
     "output_type": "display_data"
    }
   ],
   "source": [
    "for non_cat_column in non_cat_columns:\n",
    "    df.hist(non_cat_column, bins =5)"
   ]
  },
  {
   "cell_type": "code",
   "execution_count": 14,
   "id": "5b9c985c-29ed-4147-9a65-3cc2b950da6a",
   "metadata": {},
   "outputs": [],
   "source": [
    "# исходя из распределения данных нельзя точно сказать, что есть какие-либо выбросы, так как в нашем датасете не имелось пропусков, то работу с ними опустим, но в обьщем случае для количественных признаков - медианное значение, а для категориональных - либо медианное, либо везде проставлять 0, зависит от целей и задач"
   ]
  },
  {
   "cell_type": "code",
   "execution_count": 15,
   "id": "93afd9d7-111a-4aec-bac5-0e3022ea3f63",
   "metadata": {},
   "outputs": [],
   "source": [
    "# приведем количественные признаки"
   ]
  },
  {
   "cell_type": "code",
   "execution_count": 16,
   "id": "c73ab114-24e8-46a7-98a1-eaee87bc6d07",
   "metadata": {},
   "outputs": [],
   "source": [
    "for non_cat_column in non_cat_columns:\n",
    "    standart_scaler = sklearn.preprocessing.StandardScaler()\n",
    "    standart_scaler.fit(df[non_cat_column].values.reshape(-1, 1))\n",
    "    df[non_cat_column] = standart_scaler.transform(df[non_cat_column].values.reshape(-1, 1))"
   ]
  },
  {
   "cell_type": "code",
   "execution_count": 17,
   "id": "371d2b24-4559-4429-a01a-f59c56134cf0",
   "metadata": {},
   "outputs": [
    {
     "data": {
      "text/html": [
       "<div>\n",
       "<style scoped>\n",
       "    .dataframe tbody tr th:only-of-type {\n",
       "        vertical-align: middle;\n",
       "    }\n",
       "\n",
       "    .dataframe tbody tr th {\n",
       "        vertical-align: top;\n",
       "    }\n",
       "\n",
       "    .dataframe thead th {\n",
       "        text-align: right;\n",
       "    }\n",
       "</style>\n",
       "<table border=\"1\" class=\"dataframe\">\n",
       "  <thead>\n",
       "    <tr style=\"text-align: right;\">\n",
       "      <th></th>\n",
       "      <th>CreditScore</th>\n",
       "      <th>Age</th>\n",
       "      <th>Tenure</th>\n",
       "      <th>Balance</th>\n",
       "      <th>NumOfProducts</th>\n",
       "      <th>HasCrCard</th>\n",
       "      <th>IsActiveMember</th>\n",
       "      <th>EstimatedSalary</th>\n",
       "      <th>Exited</th>\n",
       "      <th>Geography_France</th>\n",
       "      <th>Geography_Germany</th>\n",
       "      <th>Geography_Spain</th>\n",
       "      <th>Gender_Female</th>\n",
       "      <th>Gender_Male</th>\n",
       "    </tr>\n",
       "  </thead>\n",
       "  <tbody>\n",
       "    <tr>\n",
       "      <th>count</th>\n",
       "      <td>1.000000e+04</td>\n",
       "      <td>1.000000e+04</td>\n",
       "      <td>1.000000e+04</td>\n",
       "      <td>1.000000e+04</td>\n",
       "      <td>1.000000e+04</td>\n",
       "      <td>10000.00000</td>\n",
       "      <td>10000.000000</td>\n",
       "      <td>1.000000e+04</td>\n",
       "      <td>10000.000000</td>\n",
       "      <td>10000.000000</td>\n",
       "      <td>10000.000000</td>\n",
       "      <td>10000.000000</td>\n",
       "      <td>10000.000000</td>\n",
       "      <td>10000.000000</td>\n",
       "    </tr>\n",
       "    <tr>\n",
       "      <th>mean</th>\n",
       "      <td>-4.824585e-16</td>\n",
       "      <td>2.318146e-16</td>\n",
       "      <td>-1.078249e-16</td>\n",
       "      <td>-6.252776e-17</td>\n",
       "      <td>1.634248e-17</td>\n",
       "      <td>0.70550</td>\n",
       "      <td>0.515100</td>\n",
       "      <td>-2.877698e-17</td>\n",
       "      <td>0.203700</td>\n",
       "      <td>0.501400</td>\n",
       "      <td>0.250900</td>\n",
       "      <td>0.247700</td>\n",
       "      <td>0.454300</td>\n",
       "      <td>0.545700</td>\n",
       "    </tr>\n",
       "    <tr>\n",
       "      <th>std</th>\n",
       "      <td>1.000050e+00</td>\n",
       "      <td>1.000050e+00</td>\n",
       "      <td>1.000050e+00</td>\n",
       "      <td>1.000050e+00</td>\n",
       "      <td>1.000050e+00</td>\n",
       "      <td>0.45584</td>\n",
       "      <td>0.499797</td>\n",
       "      <td>1.000050e+00</td>\n",
       "      <td>0.402769</td>\n",
       "      <td>0.500023</td>\n",
       "      <td>0.433553</td>\n",
       "      <td>0.431698</td>\n",
       "      <td>0.497932</td>\n",
       "      <td>0.497932</td>\n",
       "    </tr>\n",
       "    <tr>\n",
       "      <th>min</th>\n",
       "      <td>-3.109504e+00</td>\n",
       "      <td>-1.994969e+00</td>\n",
       "      <td>-1.733315e+00</td>\n",
       "      <td>-1.225848e+00</td>\n",
       "      <td>-9.115835e-01</td>\n",
       "      <td>0.00000</td>\n",
       "      <td>0.000000</td>\n",
       "      <td>-1.740268e+00</td>\n",
       "      <td>0.000000</td>\n",
       "      <td>0.000000</td>\n",
       "      <td>0.000000</td>\n",
       "      <td>0.000000</td>\n",
       "      <td>0.000000</td>\n",
       "      <td>0.000000</td>\n",
       "    </tr>\n",
       "    <tr>\n",
       "      <th>25%</th>\n",
       "      <td>-6.883586e-01</td>\n",
       "      <td>-6.600185e-01</td>\n",
       "      <td>-6.959818e-01</td>\n",
       "      <td>-1.225848e+00</td>\n",
       "      <td>-9.115835e-01</td>\n",
       "      <td>0.00000</td>\n",
       "      <td>0.000000</td>\n",
       "      <td>-8.535935e-01</td>\n",
       "      <td>0.000000</td>\n",
       "      <td>0.000000</td>\n",
       "      <td>0.000000</td>\n",
       "      <td>0.000000</td>\n",
       "      <td>0.000000</td>\n",
       "      <td>0.000000</td>\n",
       "    </tr>\n",
       "    <tr>\n",
       "      <th>50%</th>\n",
       "      <td>1.522218e-02</td>\n",
       "      <td>-1.832505e-01</td>\n",
       "      <td>-4.425957e-03</td>\n",
       "      <td>3.319639e-01</td>\n",
       "      <td>-9.115835e-01</td>\n",
       "      <td>1.00000</td>\n",
       "      <td>1.000000</td>\n",
       "      <td>1.802807e-03</td>\n",
       "      <td>0.000000</td>\n",
       "      <td>1.000000</td>\n",
       "      <td>0.000000</td>\n",
       "      <td>0.000000</td>\n",
       "      <td>0.000000</td>\n",
       "      <td>1.000000</td>\n",
       "    </tr>\n",
       "    <tr>\n",
       "      <th>75%</th>\n",
       "      <td>6.981094e-01</td>\n",
       "      <td>4.842246e-01</td>\n",
       "      <td>6.871299e-01</td>\n",
       "      <td>8.199205e-01</td>\n",
       "      <td>8.077366e-01</td>\n",
       "      <td>1.00000</td>\n",
       "      <td>1.000000</td>\n",
       "      <td>8.572431e-01</td>\n",
       "      <td>0.000000</td>\n",
       "      <td>1.000000</td>\n",
       "      <td>1.000000</td>\n",
       "      <td>0.000000</td>\n",
       "      <td>1.000000</td>\n",
       "      <td>1.000000</td>\n",
       "    </tr>\n",
       "    <tr>\n",
       "      <th>max</th>\n",
       "      <td>2.063884e+00</td>\n",
       "      <td>5.061197e+00</td>\n",
       "      <td>1.724464e+00</td>\n",
       "      <td>2.795323e+00</td>\n",
       "      <td>4.246377e+00</td>\n",
       "      <td>1.00000</td>\n",
       "      <td>1.000000</td>\n",
       "      <td>1.737200e+00</td>\n",
       "      <td>1.000000</td>\n",
       "      <td>1.000000</td>\n",
       "      <td>1.000000</td>\n",
       "      <td>1.000000</td>\n",
       "      <td>1.000000</td>\n",
       "      <td>1.000000</td>\n",
       "    </tr>\n",
       "  </tbody>\n",
       "</table>\n",
       "</div>"
      ],
      "text/plain": [
       "        CreditScore           Age        Tenure       Balance  NumOfProducts  \\\n",
       "count  1.000000e+04  1.000000e+04  1.000000e+04  1.000000e+04   1.000000e+04   \n",
       "mean  -4.824585e-16  2.318146e-16 -1.078249e-16 -6.252776e-17   1.634248e-17   \n",
       "std    1.000050e+00  1.000050e+00  1.000050e+00  1.000050e+00   1.000050e+00   \n",
       "min   -3.109504e+00 -1.994969e+00 -1.733315e+00 -1.225848e+00  -9.115835e-01   \n",
       "25%   -6.883586e-01 -6.600185e-01 -6.959818e-01 -1.225848e+00  -9.115835e-01   \n",
       "50%    1.522218e-02 -1.832505e-01 -4.425957e-03  3.319639e-01  -9.115835e-01   \n",
       "75%    6.981094e-01  4.842246e-01  6.871299e-01  8.199205e-01   8.077366e-01   \n",
       "max    2.063884e+00  5.061197e+00  1.724464e+00  2.795323e+00   4.246377e+00   \n",
       "\n",
       "         HasCrCard  IsActiveMember  EstimatedSalary        Exited  \\\n",
       "count  10000.00000    10000.000000     1.000000e+04  10000.000000   \n",
       "mean       0.70550        0.515100    -2.877698e-17      0.203700   \n",
       "std        0.45584        0.499797     1.000050e+00      0.402769   \n",
       "min        0.00000        0.000000    -1.740268e+00      0.000000   \n",
       "25%        0.00000        0.000000    -8.535935e-01      0.000000   \n",
       "50%        1.00000        1.000000     1.802807e-03      0.000000   \n",
       "75%        1.00000        1.000000     8.572431e-01      0.000000   \n",
       "max        1.00000        1.000000     1.737200e+00      1.000000   \n",
       "\n",
       "       Geography_France  Geography_Germany  Geography_Spain  Gender_Female  \\\n",
       "count      10000.000000       10000.000000     10000.000000   10000.000000   \n",
       "mean           0.501400           0.250900         0.247700       0.454300   \n",
       "std            0.500023           0.433553         0.431698       0.497932   \n",
       "min            0.000000           0.000000         0.000000       0.000000   \n",
       "25%            0.000000           0.000000         0.000000       0.000000   \n",
       "50%            1.000000           0.000000         0.000000       0.000000   \n",
       "75%            1.000000           1.000000         0.000000       1.000000   \n",
       "max            1.000000           1.000000         1.000000       1.000000   \n",
       "\n",
       "        Gender_Male  \n",
       "count  10000.000000  \n",
       "mean       0.545700  \n",
       "std        0.497932  \n",
       "min        0.000000  \n",
       "25%        0.000000  \n",
       "50%        1.000000  \n",
       "75%        1.000000  \n",
       "max        1.000000  "
      ]
     },
     "execution_count": 17,
     "metadata": {},
     "output_type": "execute_result"
    }
   ],
   "source": [
    "df.describe()"
   ]
  },
  {
   "cell_type": "code",
   "execution_count": 18,
   "id": "2a650ed6-e57d-4dba-bb3c-28d4b083c316",
   "metadata": {},
   "outputs": [],
   "source": [
    "# разобьем дф на тест, трейн, валдиацю\n",
    "train_percent = 0.8\n",
    "test_percent = 0.2"
   ]
  },
  {
   "cell_type": "code",
   "execution_count": 19,
   "id": "0c419004-3d5d-42c3-a660-73b9ece7e028",
   "metadata": {},
   "outputs": [],
   "source": [
    "df_shuffled = df.sample(frac=1, random_state=42)\n",
    "\n",
    "# Reset the index after shuffling (optional, but often desired)\n",
    "df = df_shuffled.reset_index(drop=True)"
   ]
  },
  {
   "cell_type": "code",
   "execution_count": 20,
   "id": "82be484f-a8c0-4647-a0f1-a8688f757079",
   "metadata": {},
   "outputs": [],
   "source": [
    "y = df[\"Exited\"]\n",
    "X = df\n",
    "X.drop(columns=[\"Exited\"], inplace=True, axis=1)"
   ]
  },
  {
   "cell_type": "code",
   "execution_count": 21,
   "id": "45309b4e-59b2-4a51-9ce0-07cdad8bc7ec",
   "metadata": {},
   "outputs": [],
   "source": [
    "# Разобьем на трейн и тест\n",
    "from sklearn.model_selection import train_test_split\n",
    "X_train, X_test, y_train, y_test = train_test_split(X, y, test_size=test_percent, random_state=42)"
   ]
  },
  {
   "cell_type": "code",
   "execution_count": 22,
   "id": "79d26782-3357-475a-a320-2971ccb64d20",
   "metadata": {},
   "outputs": [],
   "source": [
    "# Сбалансируем классы"
   ]
  },
  {
   "cell_type": "code",
   "execution_count": 23,
   "id": "bd7eb8e1-f308-4700-b5c4-8829a9991247",
   "metadata": {},
   "outputs": [
    {
     "name": "stdout",
     "output_type": "stream",
     "text": [
      "Количество строк в y_train по классам: [6368 1632]\n"
     ]
    }
   ],
   "source": [
    "print(f\"Количество строк в y_train по классам: {np.bincount(y_train)}\")"
   ]
  },
  {
   "cell_type": "code",
   "execution_count": 24,
   "id": "94cda9d0-f1c6-4f2b-a822-c8ef942b8b6b",
   "metadata": {},
   "outputs": [
    {
     "data": {
      "text/plain": [
       "0.25865324103209564"
      ]
     },
     "execution_count": 24,
     "metadata": {},
     "output_type": "execute_result"
    }
   ],
   "source": [
    "1644/6356"
   ]
  },
  {
   "cell_type": "code",
   "execution_count": 25,
   "id": "2b39e561-db4a-4d37-b301-5ea542e450b7",
   "metadata": {},
   "outputs": [
    {
     "data": {
      "image/png": "[encoded data removed]",
      "text/plain": [
       "<Figure size 640x480 with 1 Axes>"
      ]
     },
     "metadata": {},
     "output_type": "display_data"
    }
   ],
   "source": [
    "# Удаляем мажоритарные экзмепляры\n",
    "from imblearn.under_sampling import RandomUnderSampler\n",
    "rus = RandomUnderSampler(sampling_strategy=0.4)\n",
    "X_train, y_train = rus.fit_resample(X_train, y_train)\n",
    "ax = y_train.value_counts().plot.pie(autopct='%.2f')\n",
    "_ = ax.set_title(\"Under-sampling\")"
   ]
  },
  {
   "cell_type": "code",
   "execution_count": 26,
   "id": "adc91e0c-23c0-4684-a81d-79c1ec3e5efc",
   "metadata": {},
   "outputs": [
    {
     "name": "stdout",
     "output_type": "stream",
     "text": [
      "Количество строк в y_train о классам: [4080 1632]\n"
     ]
    }
   ],
   "source": [
    "print(f\"Количество строк в y_train о классам: {np.bincount(y_train)}\")"
   ]
  },
  {
   "cell_type": "code",
   "execution_count": 27,
   "id": "53a8f674-e4cf-41b0-a57c-534e90815b39",
   "metadata": {},
   "outputs": [
    {
     "data": {
      "image/png": "[encoded data removed]",
      "text/plain": [
       "<Figure size 640x480 with 1 Axes>"
      ]
     },
     "metadata": {},
     "output_type": "display_data"
    }
   ],
   "source": [
    "# Добавляем дубликаты миноритарного\n",
    "from imblearn.over_sampling import RandomOverSampler\n",
    "ros = RandomOverSampler(sampling_strategy=1)\n",
    "X_train, y_train = ros.fit_resample(X_train, y_train)\n",
    "ax = y_train.value_counts().plot.pie(autopct='%.2f')\n",
    "_ = ax.set_title(\"Over-sampling\")"
   ]
  },
  {
   "cell_type": "code",
   "execution_count": 28,
   "id": "cd5da3f3-d38b-45fa-9c63-cc97367af744",
   "metadata": {},
   "outputs": [
    {
     "name": "stdout",
     "output_type": "stream",
     "text": [
      "Количество строк в y_train по классам: [4080 4080]\n",
      "Количество строк в y_test по классам: [1595  405]\n"
     ]
    }
   ],
   "source": [
    "print(f\"Количество строк в y_train по классам: {np.bincount(y_train)}\")\n",
    "print(f\"Количество строк в y_test по классам: {np.bincount(y_test)}\")"
   ]
  },
  {
   "cell_type": "markdown",
   "id": "7f49198c-ad23-46ae-b605-778bc3ce9a21",
   "metadata": {},
   "source": [
    "# Решение задачи о классификации"
   ]
  },
  {
   "cell_type": "code",
   "execution_count": 29,
   "id": "12a5bcb1-18fa-41cc-883d-be4075ecf854",
   "metadata": {},
   "outputs": [],
   "source": [
    "from sklearn.model_selection import GridSearchCV\n",
    "from sklearn.neighbors import KNeighborsClassifier\n",
    "from sklearn.neural_network import MLPClassifier\n",
    "from sklearn.tree import DecisionTreeClassifier\n",
    "from sklearn.naive_bayes import GaussianNB\n",
    "from sklearn.linear_model import PassiveAggressiveClassifier\n",
    "from sklearn.linear_model import RidgeClassifier\n",
    "from sklearn.ensemble import RandomForestClassifier\n",
    "from sklearn.ensemble import BaggingClassifier\n",
    "\n",
    "\n",
    "from sklearn.metrics import accuracy_score\n",
    "from sklearn.metrics import precision_score\n",
    "from sklearn.metrics import recall_score\n",
    "from sklearn.metrics import f1_score\n",
    "from sklearn.metrics import roc_auc_score\n",
    "\n",
    "models = [KNeighborsClassifier(), MLPClassifier(), DecisionTreeClassifier(), GaussianNB(), PassiveAggressiveClassifier(), RidgeClassifier(), RandomForestClassifier(), BaggingClassifier()]"
   ]
  },
  {
   "cell_type": "code",
   "execution_count": 30,
   "id": "05afbe55-ed82-46de-af0b-a833b1e32feb",
   "metadata": {},
   "outputs": [],
   "source": [
    "def get_model_stats(model, X_train_data, y_train_data, X_test_data, y_test_data, fit=True):\n",
    "    if fit:\n",
    "        model.fit(X_train_data, y_train_data)\n",
    "    y_pred = model.predict(X_test)\n",
    "    acc = accuracy_score(y_test_data, y_pred)\n",
    "    prec = precision_score(y_test_data, y_pred)\n",
    "    recall = recall_score(y_test_data, y_pred)\n",
    "    f1 = f1_score(y_test_data, y_pred)\n",
    "    roc_auc = roc_auc_score(y_test_data, y_pred)\n",
    "    return {\n",
    "        \"accuracy_score\": acc, \"precision_score\": prec, \"recall_score\": recall, \"f1_score\": f1, \"roc_auc_score\": roc_auc, \"model\": model.__class__.__name__\n",
    "    }"
   ]
  },
  {
   "cell_type": "code",
   "execution_count": null,
   "id": "2d527344-4fd1-4f42-a60a-1cbe8ce0af00",
   "metadata": {},
   "outputs": [],
   "source": []
  },
  {
   "cell_type": "code",
   "execution_count": 31,
   "id": "7fbd6c3b-9bc1-40d9-a71c-aee93dcbaaa7",
   "metadata": {},
   "outputs": [
    {
     "name": "stderr",
     "output_type": "stream",
     "text": [
      "E:\\data\\python\\Lib\\site-packages\\sklearn\\neural_network\\_multilayer_perceptron.py:690: ConvergenceWarning: Stochastic Optimizer: Maximum iterations (200) reached and the optimization hasn't converged yet.\n",
      "  warnings.warn(\n"
     ]
    }
   ],
   "source": [
    "base_scores = []\n",
    "for model in models:\n",
    "    base_scores.append(get_model_stats(model, X_train, y_train, X_test, y_test))"
   ]
  },
  {
   "cell_type": "code",
   "execution_count": 32,
   "id": "1b9b2ee3-5179-4d1c-8f29-3820438c95eb",
   "metadata": {},
   "outputs": [
    {
     "data": {
      "text/html": [
       "<div>\n",
       "<style scoped>\n",
       "    .dataframe tbody tr th:only-of-type {\n",
       "        vertical-align: middle;\n",
       "    }\n",
       "\n",
       "    .dataframe tbody tr th {\n",
       "        vertical-align: top;\n",
       "    }\n",
       "\n",
       "    .dataframe thead th {\n",
       "        text-align: right;\n",
       "    }\n",
       "</style>\n",
       "<table border=\"1\" class=\"dataframe\">\n",
       "  <thead>\n",
       "    <tr style=\"text-align: right;\">\n",
       "      <th></th>\n",
       "      <th>accuracy_score</th>\n",
       "      <th>precision_score</th>\n",
       "      <th>recall_score</th>\n",
       "      <th>f1_score</th>\n",
       "      <th>roc_auc_score</th>\n",
       "      <th>model</th>\n",
       "    </tr>\n",
       "  </thead>\n",
       "  <tbody>\n",
       "    <tr>\n",
       "      <th>0</th>\n",
       "      <td>0.7505</td>\n",
       "      <td>0.428788</td>\n",
       "      <td>0.698765</td>\n",
       "      <td>0.531455</td>\n",
       "      <td>0.731201</td>\n",
       "      <td>KNeighborsClassifier</td>\n",
       "    </tr>\n",
       "    <tr>\n",
       "      <th>1</th>\n",
       "      <td>0.8005</td>\n",
       "      <td>0.505576</td>\n",
       "      <td>0.671605</td>\n",
       "      <td>0.576882</td>\n",
       "      <td>0.752417</td>\n",
       "      <td>MLPClassifier</td>\n",
       "    </tr>\n",
       "    <tr>\n",
       "      <th>2</th>\n",
       "      <td>0.7805</td>\n",
       "      <td>0.463519</td>\n",
       "      <td>0.533333</td>\n",
       "      <td>0.495982</td>\n",
       "      <td>0.688297</td>\n",
       "      <td>DecisionTreeClassifier</td>\n",
       "    </tr>\n",
       "    <tr>\n",
       "      <th>3</th>\n",
       "      <td>0.7200</td>\n",
       "      <td>0.387518</td>\n",
       "      <td>0.659259</td>\n",
       "      <td>0.488117</td>\n",
       "      <td>0.697341</td>\n",
       "      <td>GaussianNB</td>\n",
       "    </tr>\n",
       "    <tr>\n",
       "      <th>4</th>\n",
       "      <td>0.6800</td>\n",
       "      <td>0.310789</td>\n",
       "      <td>0.476543</td>\n",
       "      <td>0.376218</td>\n",
       "      <td>0.604102</td>\n",
       "      <td>PassiveAggressiveClassifier</td>\n",
       "    </tr>\n",
       "    <tr>\n",
       "      <th>5</th>\n",
       "      <td>0.7090</td>\n",
       "      <td>0.376912</td>\n",
       "      <td>0.669136</td>\n",
       "      <td>0.482206</td>\n",
       "      <td>0.694129</td>\n",
       "      <td>RidgeClassifier</td>\n",
       "    </tr>\n",
       "    <tr>\n",
       "      <th>6</th>\n",
       "      <td>0.8390</td>\n",
       "      <td>0.607792</td>\n",
       "      <td>0.577778</td>\n",
       "      <td>0.592405</td>\n",
       "      <td>0.741553</td>\n",
       "      <td>RandomForestClassifier</td>\n",
       "    </tr>\n",
       "    <tr>\n",
       "      <th>7</th>\n",
       "      <td>0.8260</td>\n",
       "      <td>0.571429</td>\n",
       "      <td>0.562963</td>\n",
       "      <td>0.567164</td>\n",
       "      <td>0.727876</td>\n",
       "      <td>BaggingClassifier</td>\n",
       "    </tr>\n",
       "  </tbody>\n",
       "</table>\n",
       "</div>"
      ],
      "text/plain": [
       "   accuracy_score  precision_score  recall_score  f1_score  roc_auc_score  \\\n",
       "0          0.7505         0.428788      0.698765  0.531455       0.731201   \n",
       "1          0.8005         0.505576      0.671605  0.576882       0.752417   \n",
       "2          0.7805         0.463519      0.533333  0.495982       0.688297   \n",
       "3          0.7200         0.387518      0.659259  0.488117       0.697341   \n",
       "4          0.6800         0.310789      0.476543  0.376218       0.604102   \n",
       "5          0.7090         0.376912      0.669136  0.482206       0.694129   \n",
       "6          0.8390         0.607792      0.577778  0.592405       0.741553   \n",
       "7          0.8260         0.571429      0.562963  0.567164       0.727876   \n",
       "\n",
       "                         model  \n",
       "0         KNeighborsClassifier  \n",
       "1                MLPClassifier  \n",
       "2       DecisionTreeClassifier  \n",
       "3                   GaussianNB  \n",
       "4  PassiveAggressiveClassifier  \n",
       "5              RidgeClassifier  \n",
       "6       RandomForestClassifier  \n",
       "7            BaggingClassifier  "
      ]
     },
     "execution_count": 32,
     "metadata": {},
     "output_type": "execute_result"
    }
   ],
   "source": [
    "pd.DataFrame(base_scores)"
   ]
  },
  {
   "cell_type": "code",
   "execution_count": 33,
   "id": "68b1b810-64d6-4541-907a-c8fcdb752db0",
   "metadata": {},
   "outputs": [],
   "source": [
    "# Подберем параметры для MLPClassifier DecisionTreeClassifier RandomForestClassifier BaggingClassifier"
   ]
  },
  {
   "cell_type": "code",
   "execution_count": 34,
   "id": "a7d63398-b3ac-4132-9a69-86f7f7c63855",
   "metadata": {},
   "outputs": [],
   "source": [
    "n_iter = 300\n",
    "cv = 5\n",
    "best = []\n",
    "scoring= \"roc_auc\""
   ]
  },
  {
   "cell_type": "code",
   "execution_count": 35,
   "id": "7bdce404-6281-4537-9fe1-8a23e568ff99",
   "metadata": {},
   "outputs": [
    {
     "name": "stdout",
     "output_type": "stream",
     "text": [
      "Best score: 0.9158986327374088\n",
      "Best parameters: {'activation': 'relu', 'alpha': 0.0016966252220214195, 'hidden_layer_sizes': 179, 'learning_rate_init': 0.007842330265121569, 'solver': 'adam'}\n"
     ]
    }
   ],
   "source": [
    "from sklearn.model_selection import RandomizedSearchCV\n",
    "from scipy.stats import uniform, randint\n",
    "\n",
    "mlp = MLPClassifier(max_iter=1000)\n",
    "param_distributions = {\n",
    "    'hidden_layer_sizes': randint(50, 200),\n",
    "    'activation': ['relu', 'tanh', 'logistic'],\n",
    "    'solver': ['adam', 'sgd'],\n",
    "    'alpha': uniform(loc=0.0001, scale=0.1),\n",
    "    'learning_rate_init': uniform(loc=0.001, scale=0.01)\n",
    "}\n",
    "\n",
    "random_search = RandomizedSearchCV(\n",
    "    estimator=mlp,\n",
    "    param_distributions=param_distributions,\n",
    "    n_iter=n_iter,\n",
    "    cv=cv,\n",
    "    random_state=42,\n",
    "    n_jobs=-1,\n",
    "    scoring=scoring\n",
    ")\n",
    "\n",
    "random_search.fit(X_train, y_train)\n",
    "best.append(random_search)\n",
    "print(f\"Best score: {random_search.best_score_}\")\n",
    "print(f\"Best parameters: {random_search.best_params_}\")"
   ]
  },
  {
   "cell_type": "code",
   "execution_count": 36,
   "id": "11520c6a-b187-40ff-adc0-63b6c8b52ba7",
   "metadata": {},
   "outputs": [
    {
     "name": "stdout",
     "output_type": "stream",
     "text": [
      "Best score: 0.9016514081122645\n",
      "Best parameters: {'criterion': 'entropy', 'max_depth': 14, 'min_samples_leaf': 4, 'min_samples_split': 8, 'splitter': 'best'}\n"
     ]
    }
   ],
   "source": [
    "dt_classifier = DecisionTreeClassifier(random_state=42)\n",
    "param_distributions = {\n",
    "    'max_depth': randint(low=2, high=20),\n",
    "    'min_samples_split': randint(low=2, high=10),\n",
    "    'min_samples_leaf': randint(low=1, high=5),\n",
    "    'criterion': ['gini', 'entropy'],\n",
    "    'splitter': ['best', 'random']\n",
    "}\n",
    "random_search = RandomizedSearchCV(\n",
    "    estimator=dt_classifier,\n",
    "    param_distributions=param_distributions,\n",
    "    n_iter=n_iter,\n",
    "    cv=cv, \n",
    "    scoring=scoring,\n",
    "    random_state=42,\n",
    "    n_jobs=-1\n",
    ")\n",
    "random_search.fit(X_train, y_train)\n",
    "best.append(random_search)\n",
    "print(f\"Best score: {random_search.best_score_}\")\n",
    "print(f\"Best parameters: {random_search.best_params_}\")"
   ]
  },
  {
   "cell_type": "code",
   "execution_count": 37,
   "id": "ec1f0901-d5a6-4270-8b9b-73fd2cad46c3",
   "metadata": {},
   "outputs": [
    {
     "name": "stdout",
     "output_type": "stream",
     "text": [
      "Best score: 0.9820417627835448\n",
      "Best parameters: {'criterion': 'gini', 'max_depth': 50, 'max_features': 1, 'min_samples_leaf': 1, 'min_samples_split': 2, 'n_estimators': 360}\n"
     ]
    }
   ],
   "source": [
    "rf = RandomForestClassifier()\n",
    "param_distributions={'max_depth':list(np.arange(10, 100, step=10)) + [None],\n",
    "      'n_estimators':np.arange(10, 500, step=50),\n",
    "      'max_features':randint(1,7),\n",
    "      'criterion':['gini','entropy'],\n",
    "      'min_samples_leaf':randint(1,4),\n",
    "      'min_samples_split':np.arange(2, 10, step=2)\n",
    "}\n",
    "random_search = RandomizedSearchCV(\n",
    "    rf,\n",
    "    param_distributions=param_distributions,\n",
    "    n_iter=n_iter,\n",
    "    scoring=scoring,\n",
    "    n_jobs=-1,\n",
    "    cv=cv,\n",
    "    random_state=42\n",
    ")\n",
    "random_search.fit(X_train, y_train)\n",
    "best.append(random_search)\n",
    "print(f\"Best score: {random_search.best_score_}\")\n",
    "print(f\"Best parameters: {random_search.best_params_}\")"
   ]
  },
  {
   "cell_type": "code",
   "execution_count": 38,
   "id": "be29a06c-3a5e-454b-9e2a-3d922d53700b",
   "metadata": {},
   "outputs": [
    {
     "name": "stdout",
     "output_type": "stream",
     "text": [
      "Best score: 0.9859918661091889\n",
      "Best parameters: {'n_estimators': 200, 'max_samples': 1.0, 'max_features': 0.7, 'estimator__max_depth': 20, 'bootstrap_features': True, 'bootstrap': False}\n"
     ]
    }
   ],
   "source": [
    "base_estimator = DecisionTreeClassifier()\n",
    "bagging_clf = BaggingClassifier(estimator=base_estimator)\n",
    "param_distributions = {\n",
    "    'n_estimators': [10, 50, 100, 200],\n",
    "    'max_samples': [0.5, 0.7, 1.0],\n",
    "    'max_features': [0.5, 0.7, 1.0],\n",
    "    'bootstrap': [True, False],\n",
    "    'bootstrap_features': [True, False],\n",
    "    'estimator__max_depth': [None, 5, 10, 20]\n",
    "}\n",
    "random_search = RandomizedSearchCV(\n",
    "    estimator=bagging_clf,\n",
    "    param_distributions=param_distributions,\n",
    "    n_iter=n_iter,\n",
    "    cv=cv,\n",
    "    scoring=scoring,\n",
    "    random_state=42,\n",
    "    n_jobs=-1\n",
    ")\n",
    "\n",
    "random_search.fit(X_train, y_train)\n",
    "best.append(random_search)\n",
    "print(f\"Best score: {random_search.best_score_}\")\n",
    "print(f\"Best parameters: {random_search.best_params_}\")"
   ]
  },
  {
   "cell_type": "markdown",
   "id": "33d025e6-54a2-4d50-9c6e-1dbcfaf98eb9",
   "metadata": {},
   "source": [
    "# Выводы"
   ]
  },
  {
   "cell_type": "code",
   "execution_count": 39,
   "id": "816ac563-7551-4e39-91f8-a6c67cd4d4dc",
   "metadata": {},
   "outputs": [],
   "source": [
    "# Ну вроде лучший из проверенных мною - {вставить лучший}\n",
    "# всякие матрицы и пр метрики будут позже, они для презты только нужны по идее"
   ]
  },
  {
   "cell_type": "code",
   "execution_count": 44,
   "id": "2d914519-8e3c-408a-a6ad-f5caaa9d21a0",
   "metadata": {},
   "outputs": [
    {
     "name": "stdout",
     "output_type": "stream",
     "text": [
      "MLPClassifier - 0.7167692248152018\n",
      "DecisionTreeClassifier - 0.6871821664925113\n",
      "RandomForestClassifier - 0.7378884631758196\n",
      "BaggingClassifier - 0.6884631758194976\n"
     ]
    }
   ],
   "source": [
    "for each in best:\n",
    "    model = each.best_estimator_\n",
    "    print(f\"{model.__class__.__name__} - {get_model_stats(model, X_train, y_train, X_test, y_test, fit=False)[\"roc_auc_score\"]}\")"
   ]
  },
  {
   "cell_type": "code",
   "execution_count": 47,
   "id": "e33922a9-ca20-4c0a-9d87-61920da2fd4e",
   "metadata": {},
   "outputs": [
    {
     "name": "stdout",
     "output_type": "stream",
     "text": [
      "RandomizedSearchCV\n"
     ]
    },
    {
     "data": {
      "text/plain": [
       "{'accuracy_score': 0.8405,\n",
       " 'precision_score': 0.6155913978494624,\n",
       " 'recall_score': 0.5654320987654321,\n",
       " 'f1_score': 0.5894465894465895,\n",
       " 'roc_auc_score': 0.7378884631758196,\n",
       " 'model': 'RandomizedSearchCV'}"
      ]
     },
     "execution_count": 47,
     "metadata": {},
     "output_type": "execute_result"
    }
   ],
   "source": [
    "model = best[2]\n",
    "print(model.__class__.__name__)\n",
    "get_model_stats(model, X_train, y_train, X_test, y_test, fit=False)"
   ]
  },
  {
   "cell_type": "code",
   "execution_count": 48,
   "id": "abb9b838-1876-42ce-b417-e7f2f8271e93",
   "metadata": {},
   "outputs": [],
   "source": [
    "from sklearn.metrics import classification_report\n",
    "from sklearn.metrics import confusion_matrix"
   ]
  },
  {
   "cell_type": "code",
   "execution_count": 49,
   "id": "ab5b39df-ccc1-4624-b86e-bc02133c6fea",
   "metadata": {},
   "outputs": [],
   "source": [
    "y_pred = model.predict(X_test)"
   ]
  },
  {
   "cell_type": "code",
   "execution_count": 50,
   "id": "498ee7e7-168c-4a72-a89d-5f7bc9e2c6b3",
   "metadata": {},
   "outputs": [
    {
     "name": "stdout",
     "output_type": "stream",
     "text": [
      "[[1452  143]\n",
      " [ 176  229]]\n",
      "              precision    recall  f1-score   support\n",
      "\n",
      "           0       0.89      0.91      0.90      1595\n",
      "           1       0.62      0.57      0.59       405\n",
      "\n",
      "    accuracy                           0.84      2000\n",
      "   macro avg       0.75      0.74      0.75      2000\n",
      "weighted avg       0.84      0.84      0.84      2000\n",
      "\n"
     ]
    },
    {
     "data": {
      "text/plain": [
       "<Axes: >"
      ]
     },
     "execution_count": 50,
     "metadata": {},
     "output_type": "execute_result"
    },
    {
     "data": {
      "image/png": "[encoded data removed]",
      "text/plain": [
       "<Figure size 640x480 with 2 Axes>"
      ]
     },
     "metadata": {},
     "output_type": "display_data"
    }
   ],
   "source": [
    "print(confusion_matrix(y_test, y_pred))\n",
    "print(classification_report(y_test, y_pred))\n",
    "sns.heatmap(confusion_matrix(y_test, y_pred), annot=True)"
   ]
  },
  {
   "cell_type": "code",
   "execution_count": null,
   "id": "c47cbafd-f278-462a-9b9c-5db1a88fed0b",
   "metadata": {},
   "outputs": [],
   "source": []
  }
 ],
 "metadata": {
  "kernelspec": {
   "display_name": "Python 3 (ipykernel)",
   "language": "python",
   "name": "python3"
  },
  "language_info": {
   "codemirror_mode": {
    "name": "ipython",
    "version": 3
   },
   "file_extension": ".py",
   "mimetype": "text/x-python",
   "name": "python",
   "nbconvert_exporter": "python",
   "pygments_lexer": "ipython3",
   "version": "3.12.1"
  }
 },
 "nbformat": 4,
 "nbformat_minor": 5
}
